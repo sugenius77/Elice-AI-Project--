{
 "cells": [
  {
   "cell_type": "code",
   "execution_count": 26,
   "metadata": {},
   "outputs": [
    {
     "name": "stdout",
     "output_type": "stream",
     "text": [
      "Requirement already satisfied: pororo in /opt/conda/lib/python3.8/site-packages (0.4.2)\n",
      "Requirement already satisfied: joblib in /opt/conda/lib/python3.8/site-packages (from pororo) (1.0.0)\n",
      "Requirement already satisfied: lxml in /opt/conda/lib/python3.8/site-packages (from pororo) (4.8.0)\n",
      "Requirement already satisfied: kss in /opt/conda/lib/python3.8/site-packages (from pororo) (3.4)\n",
      "Requirement already satisfied: transformers>=4.0.0 in /opt/conda/lib/python3.8/site-packages (from pororo) (4.16.2)\n",
      "Requirement already satisfied: wget in /opt/conda/lib/python3.8/site-packages (from pororo) (3.2)\n",
      "Requirement already satisfied: torchvision==0.7.0 in /opt/conda/lib/python3.8/site-packages (from pororo) (0.7.0)\n",
      "Requirement already satisfied: nltk>=3.5 in /opt/conda/lib/python3.8/site-packages (from pororo) (3.5)\n",
      "Requirement already satisfied: torch==1.6.0 in /opt/conda/lib/python3.8/site-packages (from pororo) (1.6.0)\n",
      "Requirement already satisfied: sentence-transformers>=0.4.1.2 in /opt/conda/lib/python3.8/site-packages (from pororo) (2.2.0)\n",
      "Requirement already satisfied: g2p-en in /opt/conda/lib/python3.8/site-packages (from pororo) (2.1.0)\n",
      "Requirement already satisfied: marisa-trie in /opt/conda/lib/python3.8/site-packages (from pororo) (0.7.7)\n",
      "Requirement already satisfied: word2word in /opt/conda/lib/python3.8/site-packages (from pororo) (1.0.0)\n",
      "Requirement already satisfied: fairseq>=0.10.2 in /opt/conda/lib/python3.8/site-packages (from pororo) (0.10.2)\n",
      "Requirement already satisfied: pillow>=4.1.1 in /opt/conda/lib/python3.8/site-packages (from pororo) (8.0.1)\n",
      "Requirement already satisfied: whoosh in /opt/conda/lib/python3.8/site-packages (from pororo) (2.7.4)\n",
      "Requirement already satisfied: numpy in /opt/conda/lib/python3.8/site-packages (from torch==1.6.0->pororo) (1.19.4)\n",
      "Requirement already satisfied: future in /opt/conda/lib/python3.8/site-packages (from torch==1.6.0->pororo) (0.18.2)\n",
      "Requirement already satisfied: cffi in /opt/conda/lib/python3.8/site-packages (from fairseq>=0.10.2->pororo) (1.14.4)\n",
      "Requirement already satisfied: tqdm in /opt/conda/lib/python3.8/site-packages (from fairseq>=0.10.2->pororo) (4.55.0)\n",
      "Requirement already satisfied: regex in /opt/conda/lib/python3.8/site-packages (from fairseq>=0.10.2->pororo) (2020.11.13)\n",
      "Requirement already satisfied: sacrebleu>=1.4.12 in /opt/conda/lib/python3.8/site-packages (from fairseq>=0.10.2->pororo) (2.0.0)\n",
      "Requirement already satisfied: dataclasses in /opt/conda/lib/python3.8/site-packages (from fairseq>=0.10.2->pororo) (0.6)\n",
      "Requirement already satisfied: cython in /opt/conda/lib/python3.8/site-packages (from fairseq>=0.10.2->pororo) (0.29.21)\n",
      "Requirement already satisfied: hydra-core in /opt/conda/lib/python3.8/site-packages (from fairseq>=0.10.2->pororo) (1.1.1)\n",
      "Requirement already satisfied: click in /opt/conda/lib/python3.8/site-packages (from nltk>=3.5->pororo) (7.1.2)\n",
      "Requirement already satisfied: portalocker in /opt/conda/lib/python3.8/site-packages (from sacrebleu>=1.4.12->fairseq>=0.10.2->pororo) (2.4.0)\n",
      "Requirement already satisfied: colorama in /opt/conda/lib/python3.8/site-packages (from sacrebleu>=1.4.12->fairseq>=0.10.2->pororo) (0.4.4)\n",
      "Requirement already satisfied: tabulate>=0.8.9 in /opt/conda/lib/python3.8/site-packages (from sacrebleu>=1.4.12->fairseq>=0.10.2->pororo) (0.8.9)\n",
      "Requirement already satisfied: sentencepiece in /opt/conda/lib/python3.8/site-packages (from sentence-transformers>=0.4.1.2->pororo) (0.1.96)\n",
      "Requirement already satisfied: huggingface-hub in /opt/conda/lib/python3.8/site-packages (from sentence-transformers>=0.4.1.2->pororo) (0.4.0)\n",
      "Requirement already satisfied: scipy in /opt/conda/lib/python3.8/site-packages (from sentence-transformers>=0.4.1.2->pororo) (1.5.3)\n",
      "Requirement already satisfied: scikit-learn in /opt/conda/lib/python3.8/site-packages (from sentence-transformers>=0.4.1.2->pororo) (0.24.0)\n",
      "Requirement already satisfied: tokenizers!=0.11.3,>=0.10.1 in /opt/conda/lib/python3.8/site-packages (from transformers>=4.0.0->pororo) (0.11.5)\n",
      "Requirement already satisfied: pyyaml>=5.1 in /opt/conda/lib/python3.8/site-packages (from transformers>=4.0.0->pororo) (5.3.1)\n",
      "Requirement already satisfied: packaging>=20.0 in /opt/conda/lib/python3.8/site-packages (from transformers>=4.0.0->pororo) (21.3)\n",
      "Requirement already satisfied: sacremoses in /opt/conda/lib/python3.8/site-packages (from transformers>=4.0.0->pororo) (0.0.47)\n",
      "Requirement already satisfied: requests in /opt/conda/lib/python3.8/site-packages (from transformers>=4.0.0->pororo) (2.25.1)\n",
      "Requirement already satisfied: filelock in /opt/conda/lib/python3.8/site-packages (from transformers>=4.0.0->pororo) (3.6.0)\n",
      "Requirement already satisfied: typing-extensions>=3.7.4.3 in /opt/conda/lib/python3.8/site-packages (from huggingface-hub->sentence-transformers>=0.4.1.2->pororo) (3.7.4.3)\n",
      "Requirement already satisfied: pyparsing!=3.0.5,>=2.0.2 in /opt/conda/lib/python3.8/site-packages (from packaging>=20.0->transformers>=4.0.0->pororo) (2.4.7)\n",
      "Requirement already satisfied: pycparser in /opt/conda/lib/python3.8/site-packages (from cffi->fairseq>=0.10.2->pororo) (2.20)\n",
      "Requirement already satisfied: inflect>=0.3.1 in /opt/conda/lib/python3.8/site-packages (from g2p-en->pororo) (5.4.0)\n",
      "Requirement already satisfied: distance>=0.1.3 in /opt/conda/lib/python3.8/site-packages (from g2p-en->pororo) (0.1.3)\n",
      "Requirement already satisfied: importlib-resources in /opt/conda/lib/python3.8/site-packages (from hydra-core->fairseq>=0.10.2->pororo) (5.4.0)\n",
      "Requirement already satisfied: antlr4-python3-runtime==4.8 in /opt/conda/lib/python3.8/site-packages (from hydra-core->fairseq>=0.10.2->pororo) (4.8)\n",
      "Requirement already satisfied: omegaconf==2.1.* in /opt/conda/lib/python3.8/site-packages (from hydra-core->fairseq>=0.10.2->pororo) (2.1.1)\n",
      "Requirement already satisfied: zipp>=3.1.0 in /opt/conda/lib/python3.8/site-packages (from importlib-resources->hydra-core->fairseq>=0.10.2->pororo) (3.4.0)\n",
      "Requirement already satisfied: emoji in /opt/conda/lib/python3.8/site-packages (from kss->pororo) (1.6.3)\n",
      "Requirement already satisfied: setuptools in /opt/conda/lib/python3.8/site-packages (from marisa-trie->pororo) (51.1.2)\n",
      "Requirement already satisfied: urllib3<1.27,>=1.21.1 in /opt/conda/lib/python3.8/site-packages (from requests->transformers>=4.0.0->pororo) (1.26.2)\n",
      "Requirement already satisfied: idna<3,>=2.5 in /opt/conda/lib/python3.8/site-packages (from requests->transformers>=4.0.0->pororo) (2.10)\n",
      "Requirement already satisfied: certifi>=2017.4.17 in /opt/conda/lib/python3.8/site-packages (from requests->transformers>=4.0.0->pororo) (2020.12.5)\n",
      "Requirement already satisfied: chardet<5,>=3.0.2 in /opt/conda/lib/python3.8/site-packages (from requests->transformers>=4.0.0->pororo) (4.0.0)\n",
      "Requirement already satisfied: six in /opt/conda/lib/python3.8/site-packages (from sacremoses->transformers>=4.0.0->pororo) (1.15.0)\n",
      "Requirement already satisfied: threadpoolctl>=2.0.0 in /opt/conda/lib/python3.8/site-packages (from scikit-learn->sentence-transformers>=0.4.1.2->pororo) (2.1.0)\n",
      "Note: you may need to restart the kernel to use updated packages.\n"
     ]
    }
   ],
   "source": [
    "pip install pororo"
   ]
  },
  {
   "cell_type": "code",
   "execution_count": 44,
   "metadata": {},
   "outputs": [],
   "source": [
    "import time"
   ]
  },
  {
   "cell_type": "code",
   "execution_count": 27,
   "metadata": {},
   "outputs": [],
   "source": [
    "from pororo import Pororo"
   ]
  },
  {
   "cell_type": "code",
   "execution_count": 28,
   "metadata": {},
   "outputs": [
    {
     "name": "stderr",
     "output_type": "stream",
     "text": [
      "\n"
     ]
    }
   ],
   "source": [
    "sa = Pororo(task=\"sentiment\", model=\"brainbert.base.ko.shopping\", lang=\"ko\")"
   ]
  },
  {
   "cell_type": "code",
   "execution_count": 29,
   "metadata": {},
   "outputs": [
    {
     "data": {
      "text/plain": [
       "'Positive'"
      ]
     },
     "execution_count": 29,
     "metadata": {},
     "output_type": "execute_result"
    }
   ],
   "source": [
    "sa(\"침대가 너무 편하고 좋았어요\")"
   ]
  },
  {
   "cell_type": "code",
   "execution_count": 33,
   "metadata": {},
   "outputs": [],
   "source": [
    "positive = pd.read_csv('./data/positive_all.csv')"
   ]
  },
  {
   "cell_type": "code",
   "execution_count": 69,
   "metadata": {},
   "outputs": [],
   "source": [
    "positive_review = positive['review_positive'][:1000]"
   ]
  },
  {
   "cell_type": "code",
   "execution_count": 70,
   "metadata": {},
   "outputs": [
    {
     "name": "stdout",
     "output_type": "stream",
     "text": [
      "73.13504719734192\n"
     ]
    }
   ],
   "source": [
    "start = time.time()\n",
    "positive_count = 0\n",
    "FP_list = []\n",
    "for review in positive_review:\n",
    "    if sa(review) == 'Positive':\n",
    "        positive_count += 1\n",
    "    else:\n",
    "        FP_list.append(review)\n",
    "delta_t = time.time() - start\n",
    "print(delta_t)"
   ]
  },
  {
   "cell_type": "code",
   "execution_count": 71,
   "metadata": {},
   "outputs": [
    {
     "name": "stdout",
     "output_type": "stream",
     "text": [
      "85.6\n"
     ]
    }
   ],
   "source": [
    "print((positive_count / len(positive_review))*100)"
   ]
  },
  {
   "cell_type": "code",
   "execution_count": 72,
   "metadata": {},
   "outputs": [
    {
     "data": {
      "text/plain": [
       "['서비스 , 서비스, 서비스, 서비스......,수영장, 침구&침대, 라운지 ♡',\n",
       " '수영장 사이즈가 좀 작앗어요',\n",
       " '가격이 높고 비싸요.  그리고 제 룸이 뷰가 측면 이었습니다.',\n",
       " '모든 게 좋았지만 룸서비스가 두 번 잘못 올라왔어요. 첫 번째는 얼음컵이 안 왔고, 두 번째는 커피가 안 왔는데 커피는 나중에 아셨는지 추가로 가져다주셨고요. 또 조식 시킬 때 직원분의 설명이 조금 부족해서 메뉴를 중복으로 시키게 되었어요... 브레드 바스킷 메뉴가 크루아상에 토스트뿐인 점도 아쉬웠고요. 룸서비스 직원분들은 너무 친절하셨는데 사소한 실수가 있었던 게 아쉬워요. 하지만 그것 말고는 완벽했습니다.',\n",
       " '직원 분들 서비스 위치 뷰 온수풀 룸서비스',\n",
       " '유리창이 통창이었으면 더 좋았을듯',\n",
       " '시설은 가격이 가격인만큼 좋고 그러나 직원분들 서비스는 최상이였음',\n",
       " '코로나로 인해 수영장 운영안했어요 ㅠㅠ',\n",
       " '생일이신분은 미리 말씀드려놓으면 케이크 준비가 된다고 합니다! 침대와 딥디크제품들 너무 좋았구요 수영장은 많이 작고 사진찍는사람들로 북적거렸어요ㅜㅜ 카바나 이용은 유료이고 무료인곳도 있었습니다만 너무 비싸요.. 그리구 그것도 예약해야된다는거ㅜㅜ 전체적으로 좋았지만 평일인데도 불구하고 성수기라 많이 비싸게 이용했습니다ㅜㅜㅜ',\n",
       " '다른 부분에서는 아쉬운점이 없었지만 수영장은 좀 별로얐어요.  성수기라 사람이 많았는데 수영장 케어가 전혀 안되고 있었어요.  모자 필수 착용도 6성급 호텔과는 좀 안 맞는 것 같아요',\n",
       " '호텔 출입구가 해운대 뒷편 언덕에 위치해 접근성이 떨어짐',\n",
       " '직원수가 많은건 장점',\n",
       " '조식은 좋았습니다. 식전음료도 좋았고요. 그러나 타 호텔과 비교했을때(하얏트,신라 등) 가짓수가 떨어지고 딱히 좋다는 느낌은 받지못했습니다.',\n",
       " '좋은점 없음',\n",
       " '완전실망 😑',\n",
       " 'Staff were wonderful room clean had a free room upgrade..Infinity pool amazing with sunset ocean view..',\n",
       " 'Friendly staff and wonderful room. The view from our hotel was really nice. The snacks they provided each day in our hotel room was delicious!',\n",
       " 'Everything else, the hotel is top notch in quality and the staff are so sweet and really will go out of their way to help you. For instance, my friend left her phone in a taxi that Signiel ordered for us, i called the hotel and they tracked down that taxi and had the driver drop off the phone at the front desk. I wish i knew the name of the staff member who did all that but nonetheless, it speaks volumes.',\n",
       " \"Staff was so friendly and professional. Had an issue with my card going through which wasn't their fault, Sent a bottle of champagne to the room. Excellent staff, excellent views loved the stay. Will stay again. Recommend highly.\",\n",
       " 'Staff was very courteous, especially Louis, who took me to my room and brought me tea! Much appreciated!',\n",
       " 'Excellent location, beautiful seaside views from the balconies and exceptional food and service.',\n",
       " 'Staff was so nice to me',\n",
       " 'It was a very nice stay. We definitely enjoyed it.',\n",
       " 'The ocean view premier room hardly had an ocean view. It can only be viewed partially from the balcony.',\n",
       " 'Location, Beddings(super comfortable), and the room services',\n",
       " 'From the moment we stepped out the taxi , the staff made us feel like we were on vacation. The welcome tea was great , treats and toiletries were amazing. The bathroom was nice . There was a nice breakfast buffet , the pool was heated , robes and towels pool side, the sauna and spa on sight, nice kids playroom.',\n",
       " '티비리모컨에 비닐씌운거요',\n",
       " '로케이션',\n",
       " '주차장과 객실로 가는 코스가 번거롭습니다.',\n",
       " '전망은 좋았으나 청소상태나 체크인 시간이 미뤄지는 것은 문제가 있어보입니다',\n",
       " '욕실컨디션은 모텔수준임. 왜 욕실 리모델링을 안하는걸까요??',\n",
       " '주차',\n",
       " '위치',\n",
       " '욕실 횐기가 안되어 개선해 주세요',\n",
       " '맛은 있으나 가지 수가 다소 부족. 바다(해안)쪽 뷰는 최고.',\n",
       " '욕조 바닥에 미끄럼 방지 장치(테이프(?))가 없었음.  미끌어질 수 있는 경우가 많을 것 인데.  욕조 옆 벽면에 잡을 수 있는 봉 같은 지지대(?) 같은 것이 없었음.',\n",
       " '조식 부페의 음식 맛은 별로.',\n",
       " '쳌인을 늦게 할것 같아 내일 late check out 을 부탁하였으나 주말이라는 관계로 단박에 거절하는 바람에 좀 당황스러웠습니다. 항상 늦게 쳌인 하는 편이라 일행이 여독을 풀려면 조금이라도 여유있게 시간을 늘려 주는게 배려라 생각하여 대신 그렇게 요구하였으나 거절 당하니 부끄러웠어요.',\n",
       " '그런데도 불구하고 직원 친절도, 호텔 격조, 위치 등 많이 고급스러워 보임',\n",
       " '룸서비스는 가격대비 ㅜㅜ',\n",
       " '엘리베이터 기다리는시간',\n",
       " '위치',\n",
       " '위치만 좋음',\n",
       " '3인으로 숙소를 잡았는데 어메니티나 슬리퍼 등 물건들이 2인에 맞춰 준비되었으며 직원들간의 소통이 전혀 되지 않는듯 해보였습니다. 로비에서 직원이 직접 체크아웃 시간을 늦춰주었는데 그 내용을 알지못한채 전화를 통해 체크아웃 시간이 다되었다고 통보하여 제가 로비에서 체크아웃 시간을 바꿔줬다고 말해드렸더니 5분후에 직접 찾아와 또 체크아웃 시간이 다되었다고 나가라고 하네요. 직원간 소통이 원활히 이루어지길 바라겠습니다. 또한 편의점을 가기 위해서 10분정도 걸어가야 했습니다.',\n",
       " '체크인 후 입실했을 때 욕실에서 빨래 덜 마른 꿉꿉한 냄새가 났음',\n",
       " '욕실환기안됨',\n",
       " '시설 노후 심함',\n",
       " '리모델링 필요하고 방음안되요',\n",
       " '없습니다',\n",
       " '위치',\n",
       " '오션뷰로 하세요 두 번 하세요',\n",
       " 'Location',\n",
       " 'Perfect position, nice view on the beach',\n",
       " 'We liked our room and how clean it was. We liked the lobby. We loved that it was on the beach.',\n",
       " 'The room was devine, clean, spacious, and invoked a restful environment.It felt safe and social distancing was being applied.',\n",
       " 'View',\n",
       " 'I loved everything about the hotel. The environment was so peaceful with nature all around and the beautiful water view made it magnificent.',\n",
       " 'It was amazing',\n",
       " 'Amazing oceanside view and overall location. Very nice facilities including gym, sauna, pool, and walking paths. Generally friendly and attentive staff. Comfortably large room.',\n",
       " 'Hotel and staff are wonderful. Great location with nearby walking trail, beach views, and close to restaurants and cafes. Free parking and public transit is nearby.',\n",
       " 'Location is perfect Right on the beach  Clean room and towels and linens replaced  Spotlessly clean bathroom',\n",
       " \"I didn't eat breakfast.\",\n",
       " 'El alojamiento tiene unas vistas increíbles al mar, para haber sido construido en 1970 el interior en moderno aunque en las habitaciones si se puede apreciar la antigüedad. Pero aún así es parte del encanto de este hotel. El personas es muy profesional.',\n",
       " '.',\n",
       " '아기를 동반하여 조식을 먹었습니다만, 아기의자 및 식기 빨리 갖다주시면 좋았을것 같습니다 그리고 아기의자 사용법을 직원도 모르고 있어서 5분동안 애기를 안고 있었던것 같습니다. 사용법 정도는 직원들도 알고 계셔야하지 않을까요????',\n",
       " '5성호텔치고는 그리 비싸지않은 숙박료, 과자부스러기와 소파머리카락 컴플레인에 룸체인지해주셨어요',\n",
       " '조식은 이용하지 않아서 잘 모르겠어요. 위치는 서면 한가운데라서 부산 서면에서 노실려면 아주 좋은 위치에요. 다만 해운대 처럼 완전한 휴식과 릴렉스를 위한 해변가는 아니고 도심 한복판이기 때문에 그런 기대는 내려 놓아야 해요.',\n",
       " '식사를 하고 싶었는데 만원이라 할 수 없다고 했어요.',\n",
       " '집사람이 침대와 베개가 너무 좋아 자는지도 모르게 잤다네요',\n",
       " '조식을 날짜별로 선택할수 있도록 했으면  -우리는 3일 조식 신청을 했는데 먹는양에 비해 가격이 높은 듯',\n",
       " '수영장 이용이나 피트니스 이용 쿠폰제 너무 별로 입니다. 아이들과는 안가시는걸 추천드립니다.',\n",
       " '매번 해운대에 있는 호텔에 투숙했다가 시내에 있는 호텔에서도 투숙해보고 싶어 결정한 호텔입니다.  오래되었다는 것은 알고 있었지만 서울에 있는 롯데대비 관리가 안 된다는 느낌이 너무 많이 들었습니다. 특히 어메니티가 서울과 차이가 많이 나네요. 혹시나 싶어 준비해 간 개인물품이 없었으면 난감했을 듯 싶습니다.  또한 주차장 구조도 복잡하고 안내도 제대로 되지 않다 보니 엉뚱한 곳에 주차를 하게 된 듯요.  특히 출차할 때 입차하는 통로와 겹치고, 사람들 동선을 가로지르는 경우가 있어서 매우 위험해 보였습니다.',\n",
       " '객실 청소가 잘 안되어있었어요. 거울에 먼지랑 욕실 패드에 머리카락 끼여있어서 별로였어요.',\n",
       " '객실 창문 개폐불가능...답답함',\n",
       " '좋은점 없었습니다',\n",
       " '짧은 엘레베이터 대기시간, 개인간 거리유지가 용이한 사우나',\n",
       " '짐을 호텔에 두고 체크아웃을 했었는데 전화해서 확인해보니 물건이 그대로있어서 택배로 보내주기로 하셨어요 그부분 감사드려요',\n",
       " '아침 시간대 조절을 잘해야함 08:30분대 가장 많이 이용',\n",
       " '룸 청결상태가 아쉬웠습니다. 4일 머무는 동안 먼지는 그대로 유지되었네요...',\n",
       " '체크인 오래걸림',\n",
       " '1901호였는데 화장실에서 쉰냄새 엄청났어요... 시트도 구김 엄청나고ㅠㅠ싼맛에그냥잤는데 두번은 안갈듯',\n",
       " '흡연실도 아닌데 쾌쾌한 냄새가 심해 수면 방해가 되었음.',\n",
       " '헬스장에 호텔 투수객만이아닌 일반인들도 받는지 너무 복잡하고 2인투숙인데 1일 1명 1회에 한해 사용할수있다는게 아쉬웠어요',\n",
       " '위치 직원',\n",
       " 'cozy room, beautiful view, huge comfortable bed, a BATH, and a robot that delivers you convenience store goodies! amazing experience :) the staff were so kind and helpful too',\n",
       " 'Employees were very polite and competent. Especially employees in the lobby were very kind and professional.',\n",
       " 'The staff. They provided for everything that we need and asked. They are warm and always doing service with a smile.',\n",
       " 'The Lotte Hotel Staff is beyond professional and truly treated me like family.',\n",
       " 'Gym and sauna were great. Room was lovely, clean and comfortable. Staff were very helpful with every request',\n",
       " 'Pool, kind staffs, service, location',\n",
       " 'The breakfast was spectacular. Fantastic selection and friendly staff. Well done.',\n",
       " 'Room was big & very clean, very convenient location.',\n",
       " \"You can't use the hotel pool if you have tattoos. My tattoos were visible when I checked in and no one told us. It was also nowhere on Booking.\",\n",
       " \"So with the club premium access I was able to get breakfast, salad buffet, tea hour, and cocktail hour all free of charge which was really nice. And with access to the club floor which had a smoking lounge, a relaxing area and even a massage chair. The staff were all very helpful and friendly. They allowed us to extend our checkout time by a few hours, called us a taxi when we needed it, and held our luggage after checkout when we weren't leaving yet. The room I had gotten was very nice, with a high floor and amazing view to the city. The food provided for the breakfast was really good with a huge selection of foods and pastries. I would highly recommend staying here. Especially with it being in the middle of an extremely active city.\",\n",
       " 'It took 30min from parking to check in.',\n",
       " 'The staff were courteous and very professional',\n",
       " 'Sie waren sehr nett',\n",
       " '宿泊者が無料で利用出来るプール、ジム、スパでは、タオルやバスローブだけでは無く、運動着や靴下も無料レンタルすることが出来ました。6階の脱衣場からそれらの施設に行くことが出来るので、ジムやプールの後にすぐお風呂に入ることが出来て、とても快適でした。日本語が出来るスタッフも多く、滞在中は親切に対応してくださいました。また地下鉄西面駅から地下で直結していて立地もとても良かったです。',\n",
       " '위치',\n",
       " '음 조식 가격대에 비해 먼가 많이 메뉴가 아쉬운 느낌이였습니다. 가격을 생각하지 않으면 이정도면 너무 괜찮다 이느낌인데 가격을 생각한다면... 좀 아쉽다 이느낌입니다.',\n",
       " '욕실에 하수구 냄새요 ㅠ',\n",
       " '화장실비데가없다는게 충격',\n",
       " '가성비는 별로',\n",
       " \"퇴근 후 도착 시 룸서비스로 바로 먹으려고 하는데, 예약(객실밖에서는)이 안 되서 너무 불편했다..파크하얏트는 해 주던데ㅠ 프론트에 '이소영'이란 직원의 도움으로 불편한 점을 해결 할 수 있었다.\",\n",
       " '화장실 반투명....?',\n",
       " '다좋았던거 같은데 호실마다 개별 공기청정기가 있었으면 어땠을까 생각이 드네요 요청하면 주실거 같았지만 번거러워서..',\n",
       " '다른호텔에비해 넓다',\n",
       " '내부 식당가의 음식 맛이 호텔 퀄리티에 비해 높지 않았던 것 같습니다',\n",
       " '아침식사는 파라다이스 등의 타호텔 대비 평범한 수준... 메뉴 구성에 사람들이 좋아하는 고기, 햄, 치즈 등을 추가 하면 좋겠습니다.',\n",
       " '조식이 별로',\n",
       " '부대시설',\n",
       " '뷰',\n",
       " '조식은 기대이하, 그냥 조식(기대가 너무....)',\n",
       " '부대시설',\n",
       " '할인대신 네이버 포인트3만을 준다고 해서 할인률이 괜찮아 결제했음.',\n",
       " '맜있음,',\n",
       " '크....',\n",
       " '위치, 부대시설, 자쿠지',\n",
       " '공사중 너무시끄럽습니다',\n",
       " '주변ㅔㅔ',\n",
       " '같은 바다 측의 뷰 임에도 금액에 따른 층수의 차이는 존재 하게 되기때문에, 가격 대비 만족하는 뷰를 선택할 수 있고 그만큼 멋진 뷰와 소음에서 멀어질 수 있음',\n",
       " '바다 보이는건 좋은데 미세먼지 심할때가서 잘 안보였어요',\n",
       " '바다가 보이는 통유리 창문',\n",
       " '비용이 높고, 룸마다 비데가 없는 것이 아쉬웠습니다.',\n",
       " '어르신 모시고 가면 아난티코브에 딱히 먹을만한게 없어요',\n",
       " '조식이 파크하얏트가 훨씬 맛있는듯합니다',\n",
       " '두번째 조식인데 가격대비 좀 먹을게 부실해요',\n",
       " '그냥 이제 다른데 안갈거같다.',\n",
       " '로비 찾기가 어려워요',\n",
       " '비데가 없음',\n",
       " '1.주차장에서객실가는길이너무복잡하여짐이있으면불편함 2.멀리까지갔는데수영장은하루에한번정도는무로사용하게했으면좋겠다 아무튼수영장유료로하니까가기가좀꺼려짐. 자유롭게수영하며좋은경치보고힐링할수있도록편안하게해주면더좋을것같습니다',\n",
       " '다',\n",
       " '이그제큐티브 라운지에 음식들은 생각보다 별로였고 코로나때문에 조식으로 다모임을 이용했는데 조식은 만족했습니다.',\n",
       " '조식의 음식 종류는 기대이상으로 많아서 좋았으나, 맛은 기대 이하',\n",
       " '코로나로 인해서 부대시설 이용못한게 아쉬워요',\n",
       " '수영장 동절기로 이용못한게 아쉽습니다',\n",
       " '호텔투숙객이 아닌 일반인들이 너무많음.',\n",
       " '수영장 시설',\n",
       " '가격만큼 가치를 하는곳',\n",
       " '아침식사는 생각만큼 다양한 메뉴로 구성되어 있지는 않았습니다. 다른 후기들의 비해 만족스럽지는 않았습니다. 너무 큰 기대를 하고 방문을 해서 그런지 다음 방문시에는 재이용하지 않을 것입니다. 가격대비 만족스럽지 못하였어요.',\n",
       " '위치가 차로 대부분 이동해야하기에 사람이 적음.. 방 컨디션도 괜춘..',\n",
       " '조식은 넓고 편안했고 먹을 수 있는 음식 종류가 적당했습니다. 다만 호텔 수영장 이용 중에 선택할 수 있는 식당이 한정되어 있고 음식의 질에 비해 가격이 너무 비싸며, 선택할 수 있는 음식 종류도 적었습니다.',\n",
       " '가격에 비해 서비스가 몇개 없었음. 특히 와이파이가 유로인게 별로였음',\n",
       " '세면대쪽에 냄새가 나고 물이 잘안내려감']"
      ]
     },
     "execution_count": 72,
     "metadata": {},
     "output_type": "execute_result"
    }
   ],
   "source": [
    "FP_list"
   ]
  },
  {
   "cell_type": "code",
   "execution_count": 47,
   "metadata": {},
   "outputs": [],
   "source": [
    "negative = pd.read_csv('./data/negative_all.csv')"
   ]
  },
  {
   "cell_type": "code",
   "execution_count": 59,
   "metadata": {},
   "outputs": [],
   "source": [
    "negative_review = negative['review_negative'][:1000]"
   ]
  },
  {
   "cell_type": "code",
   "execution_count": 73,
   "metadata": {},
   "outputs": [
    {
     "name": "stdout",
     "output_type": "stream",
     "text": [
      "7.271336793899536\n"
     ]
    }
   ],
   "source": [
    "start = time.time()\n",
    "negative_count = 0\n",
    "FN_list = []\n",
    "for review in negative_review:\n",
    "    if sa(review) == 'Negative':\n",
    "        negative_count += 1\n",
    "    else:\n",
    "        FN_list.append(review)\n",
    "delta_t = time.time() - start\n",
    "print(delta_t)"
   ]
  },
  {
   "cell_type": "code",
   "execution_count": 74,
   "metadata": {},
   "outputs": [
    {
     "name": "stdout",
     "output_type": "stream",
     "text": [
      "88.0\n"
     ]
    }
   ],
   "source": [
    "print((negative_count / len(negative_review))*100)"
   ]
  },
  {
   "cell_type": "code",
   "execution_count": 75,
   "metadata": {},
   "outputs": [
    {
     "data": {
      "text/plain": [
       "['너무 좋았지만, 애기를 데리고 온다면 애기침대 놓을 공간이나 이런게 조금 부족할 거라고 생각이 들었어요 ㅎㅎ',\n",
       " '아쉬움은 없음! 굳이 찾자면 샤워실 물이 좀더 쫚~ 빠져주면 좋을 듯! 상가 공실은 스산한 느낌!',\n",
       " '같은 타입의 숙소에서 좀더 바다가 보이는 뷰였으면 좋았을 것 같슴니다',\n",
       " '만족. 직원의 친절함.',\n",
       " '트윈2개있는방이 있었으면 좋겠네요^^',\n",
       " '바람이 쌔게 불어서 인피니티 풀 이용를 못했었지만 다음날 날씨가 화창해져서 이용가능했습니다',\n",
       " '없어요 진짜 좋았어요',\n",
       " '복도 창문 유리의 청결도',\n",
       " '가격이 저렴하지 않고, 방이 조금 좁았던 기억이 있네요. 그래도 이런 것들을 다 커버할 정도로 좋았던 투숙이었습니다. 직원들이 정말 친절하세요.',\n",
       " '다 마음에 들었는데, 체크아웃 후 출차 시 주차등록이 안되어있다고 해서 조금.. 당황했네요. 나머지는 모두 만족했습니다:)',\n",
       " '전 아쉬운점이 없어서 적을얘기가 없네요.',\n",
       " '체크인할때주는 종이뿐만아니라 해운대 바닷가로 내려가는 지름길이나 해운대 도심으로 가는 길 표시같은게 있었으면 해운대를 즐기기 더욱 좋을거같습니다~']"
      ]
     },
     "execution_count": 75,
     "metadata": {},
     "output_type": "execute_result"
    }
   ],
   "source": [
    "FN_list"
   ]
  },
  {
   "cell_type": "code",
   "execution_count": null,
   "metadata": {},
   "outputs": [],
   "source": []
  },
  {
   "cell_type": "code",
   "execution_count": null,
   "metadata": {},
   "outputs": [],
   "source": []
  },
  {
   "cell_type": "code",
   "execution_count": null,
   "metadata": {},
   "outputs": [],
   "source": []
  },
  {
   "cell_type": "code",
   "execution_count": null,
   "metadata": {},
   "outputs": [],
   "source": []
  }
 ],
 "metadata": {
  "kernelspec": {
   "display_name": "Python 3",
   "language": "python",
   "name": "python3"
  },
  "language_info": {
   "codemirror_mode": {
    "name": "ipython",
    "version": 3
   },
   "file_extension": ".py",
   "mimetype": "text/x-python",
   "name": "python",
   "nbconvert_exporter": "python",
   "pygments_lexer": "ipython3",
   "version": "3.8.6"
  }
 },
 "nbformat": 4,
 "nbformat_minor": 4
}
