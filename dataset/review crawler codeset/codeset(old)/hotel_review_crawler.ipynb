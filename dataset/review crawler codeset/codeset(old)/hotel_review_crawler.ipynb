{
 "cells": [
  {
   "cell_type": "code",
   "execution_count": 146,
   "metadata": {},
   "outputs": [],
   "source": [
    "import sys # 시스템\n",
    "import os  # 시스템\n",
    "import math\n",
    "import pandas as pd  # 판다스 : 데이터분석 라이브러리\n",
    "import numpy as np   # 넘파이 : 숫자, 행렬 데이터 라이브러리\n",
    "\n",
    "from selenium import webdriver   # 웹 브라우저 자동화\n",
    "import time    # 서버와 통신할 때 중간중간 시간 지연. 보통은 1초\n",
    "from tqdm import tqdm  # for문 돌릴 때 진행상황을 %게이지로 알려준다."
   ]
  },
  {
   "cell_type": "code",
   "execution_count": 148,
   "metadata": {},
   "outputs": [
    {
     "name": "stderr",
     "output_type": "stream",
     "text": [
      "/var/folders/bv/nmp9d1m15qs8_fkfflh7v6fr0000gn/T/ipykernel_3202/1676810923.py:11: DeprecationWarning: executable_path has been deprecated, please pass in a Service object\n",
      "  driver = webdriver.Chrome(executable_path=\"/Users/sujin/Desktop/hotel-review-crawler/chromedriver\")\n",
      "/var/folders/bv/nmp9d1m15qs8_fkfflh7v6fr0000gn/T/ipykernel_3202/1676810923.py:18: DeprecationWarning: find_elements_by_* commands are deprecated. Please use find_elements() instead\n",
      "  hotel_name = driver.find_elements_by_xpath('//*[@data-testid=\"title\"]')\n",
      "/var/folders/bv/nmp9d1m15qs8_fkfflh7v6fr0000gn/T/ipykernel_3202/1676810923.py:23: DeprecationWarning: find_element_by_* commands are deprecated. Please use find_element() instead\n",
      "  hotel_page_raw= driver.find_element_by_css_selector('#search_results_table > div:nth-child(1) > div > div > div > div._b2280f5e6 > div._111b4b398').get_attribute('textContent').replace(\" \",\"\")\n"
     ]
    },
    {
     "name": "stdout",
     "output_type": "stream",
     "text": [
      "10\n"
     ]
    },
    {
     "name": "stderr",
     "output_type": "stream",
     "text": [
      "  0%|          | 0/10 [00:00<?, ?it/s]/var/folders/bv/nmp9d1m15qs8_fkfflh7v6fr0000gn/T/ipykernel_3202/1676810923.py:32: DeprecationWarning: find_elements_by_* commands are deprecated. Please use find_elements() instead\n",
      "  if hotel_name_list[i] == driver.find_elements_by_xpath('//*[@data-testid=\"title\"]')[i].text:\n",
      "/var/folders/bv/nmp9d1m15qs8_fkfflh7v6fr0000gn/T/ipykernel_3202/1676810923.py:34: DeprecationWarning: find_element_by_* commands are deprecated. Please use find_element() instead\n",
      "  driver.find_element_by_css_selector('#b2searchresultsPage').click()\n",
      "/var/folders/bv/nmp9d1m15qs8_fkfflh7v6fr0000gn/T/ipykernel_3202/1676810923.py:36: DeprecationWarning: find_elements_by_* commands are deprecated. Please use find_elements() instead\n",
      "  driver.find_elements_by_xpath('//*[@data-testid=\"title\"]')[i].click()\n",
      "/var/folders/bv/nmp9d1m15qs8_fkfflh7v6fr0000gn/T/ipykernel_3202/1676810923.py:41: DeprecationWarning: find_element_by_* commands are deprecated. Please use find_element() instead\n",
      "  driver.find_element_by_css_selector('#show_reviews_tab').click()\n",
      "  0%|          | 0/25 [00:07<?, ?it/s]\n",
      "  0%|          | 0/10 [00:10<?, ?it/s]\n"
     ]
    },
    {
     "ename": "NoSuchWindowException",
     "evalue": "Message: no such window: window was already closed\n  (Session info: chrome=98.0.4758.80)\nStacktrace:\n0   chromedriver                        0x000000010321cb50 chromedriver + 4442960\n1   chromedriver                        0x00000001031b1d14 chromedriver + 4005140\n2   chromedriver                        0x0000000102e0630c chromedriver + 156428\n3   chromedriver                        0x0000000102df7ae4 chromedriver + 96996\n4   chromedriver                        0x0000000102df2514 chromedriver + 75028\n5   chromedriver                        0x0000000102e5e2e4 chromedriver + 516836\n6   chromedriver                        0x0000000102e2a660 chromedriver + 304736\n7   chromedriver                        0x00000001031df308 chromedriver + 4190984\n8   chromedriver                        0x00000001031f5584 chromedriver + 4281732\n9   chromedriver                        0x00000001031fa3d0 chromedriver + 4301776\n10  chromedriver                        0x00000001031f5f04 chromedriver + 4284164\n11  chromedriver                        0x00000001031d5164 chromedriver + 4149604\n12  chromedriver                        0x000000010320ee74 chromedriver + 4386420\n13  chromedriver                        0x000000010320efe8 chromedriver + 4386792\n14  chromedriver                        0x00000001032233f4 chromedriver + 4469748\n15  libsystem_pthread.dylib             0x0000000182779240 _pthread_start + 148\n16  libsystem_pthread.dylib             0x0000000182774024 thread_start + 8\n",
     "output_type": "error",
     "traceback": [
      "\u001b[0;31m---------------------------------------------------------------------------\u001b[0m",
      "\u001b[0;31mNoSuchWindowException\u001b[0m                     Traceback (most recent call last)",
      "\u001b[0;32m/var/folders/bv/nmp9d1m15qs8_fkfflh7v6fr0000gn/T/ipykernel_3202/1676810923.py\u001b[0m in \u001b[0;36m<module>\u001b[0;34m\u001b[0m\n\u001b[1;32m     39\u001b[0m                 \u001b[0;31m# 고객 후기 클릭\u001b[0m\u001b[0;34m\u001b[0m\u001b[0;34m\u001b[0m\u001b[0m\n\u001b[1;32m     40\u001b[0m                 \u001b[0mtime\u001b[0m\u001b[0;34m.\u001b[0m\u001b[0msleep\u001b[0m\u001b[0;34m(\u001b[0m\u001b[0;36m7\u001b[0m\u001b[0;34m)\u001b[0m\u001b[0;34m\u001b[0m\u001b[0;34m\u001b[0m\u001b[0m\n\u001b[0;32m---> 41\u001b[0;31m                 \u001b[0mdriver\u001b[0m\u001b[0;34m.\u001b[0m\u001b[0mfind_element_by_css_selector\u001b[0m\u001b[0;34m(\u001b[0m\u001b[0;34m'#show_reviews_tab'\u001b[0m\u001b[0;34m)\u001b[0m\u001b[0;34m.\u001b[0m\u001b[0mclick\u001b[0m\u001b[0;34m(\u001b[0m\u001b[0;34m)\u001b[0m\u001b[0;34m\u001b[0m\u001b[0;34m\u001b[0m\u001b[0m\n\u001b[0m\u001b[1;32m     42\u001b[0m                 \u001b[0;31m# 한국어 리뷰만 보기\u001b[0m\u001b[0;34m\u001b[0m\u001b[0;34m\u001b[0m\u001b[0m\n\u001b[1;32m     43\u001b[0m                 \u001b[0;32mtry\u001b[0m\u001b[0;34m:\u001b[0m\u001b[0;34m\u001b[0m\u001b[0;34m\u001b[0m\u001b[0m\n",
      "\u001b[0;32m/opt/homebrew/lib/python3.9/site-packages/selenium/webdriver/remote/webdriver.py\u001b[0m in \u001b[0;36mfind_element_by_css_selector\u001b[0;34m(self, css_selector)\u001b[0m\n\u001b[1;32m    806\u001b[0m             \u001b[0mstacklevel\u001b[0m\u001b[0;34m=\u001b[0m\u001b[0;36m2\u001b[0m\u001b[0;34m,\u001b[0m\u001b[0;34m\u001b[0m\u001b[0;34m\u001b[0m\u001b[0m\n\u001b[1;32m    807\u001b[0m         )\n\u001b[0;32m--> 808\u001b[0;31m         \u001b[0;32mreturn\u001b[0m \u001b[0mself\u001b[0m\u001b[0;34m.\u001b[0m\u001b[0mfind_element\u001b[0m\u001b[0;34m(\u001b[0m\u001b[0mby\u001b[0m\u001b[0;34m=\u001b[0m\u001b[0mBy\u001b[0m\u001b[0;34m.\u001b[0m\u001b[0mCSS_SELECTOR\u001b[0m\u001b[0;34m,\u001b[0m \u001b[0mvalue\u001b[0m\u001b[0;34m=\u001b[0m\u001b[0mcss_selector\u001b[0m\u001b[0;34m)\u001b[0m\u001b[0;34m\u001b[0m\u001b[0;34m\u001b[0m\u001b[0m\n\u001b[0m\u001b[1;32m    809\u001b[0m \u001b[0;34m\u001b[0m\u001b[0m\n\u001b[1;32m    810\u001b[0m     \u001b[0;32mdef\u001b[0m \u001b[0mfind_elements_by_css_selector\u001b[0m\u001b[0;34m(\u001b[0m\u001b[0mself\u001b[0m\u001b[0;34m,\u001b[0m \u001b[0mcss_selector\u001b[0m\u001b[0;34m)\u001b[0m \u001b[0;34m->\u001b[0m \u001b[0mWebElement\u001b[0m\u001b[0;34m:\u001b[0m\u001b[0;34m\u001b[0m\u001b[0;34m\u001b[0m\u001b[0m\n",
      "\u001b[0;32m/opt/homebrew/lib/python3.9/site-packages/selenium/webdriver/remote/webdriver.py\u001b[0m in \u001b[0;36mfind_element\u001b[0;34m(self, by, value)\u001b[0m\n\u001b[1;32m   1242\u001b[0m             \u001b[0mvalue\u001b[0m \u001b[0;34m=\u001b[0m \u001b[0;34m'[name=\"%s\"]'\u001b[0m \u001b[0;34m%\u001b[0m \u001b[0mvalue\u001b[0m\u001b[0;34m\u001b[0m\u001b[0;34m\u001b[0m\u001b[0m\n\u001b[1;32m   1243\u001b[0m \u001b[0;34m\u001b[0m\u001b[0m\n\u001b[0;32m-> 1244\u001b[0;31m         return self.execute(Command.FIND_ELEMENT, {\n\u001b[0m\u001b[1;32m   1245\u001b[0m             \u001b[0;34m'using'\u001b[0m\u001b[0;34m:\u001b[0m \u001b[0mby\u001b[0m\u001b[0;34m,\u001b[0m\u001b[0;34m\u001b[0m\u001b[0;34m\u001b[0m\u001b[0m\n\u001b[1;32m   1246\u001b[0m             'value': value})['value']\n",
      "\u001b[0;32m/opt/homebrew/lib/python3.9/site-packages/selenium/webdriver/remote/webdriver.py\u001b[0m in \u001b[0;36mexecute\u001b[0;34m(self, driver_command, params)\u001b[0m\n\u001b[1;32m    422\u001b[0m         \u001b[0mresponse\u001b[0m \u001b[0;34m=\u001b[0m \u001b[0mself\u001b[0m\u001b[0;34m.\u001b[0m\u001b[0mcommand_executor\u001b[0m\u001b[0;34m.\u001b[0m\u001b[0mexecute\u001b[0m\u001b[0;34m(\u001b[0m\u001b[0mdriver_command\u001b[0m\u001b[0;34m,\u001b[0m \u001b[0mparams\u001b[0m\u001b[0;34m)\u001b[0m\u001b[0;34m\u001b[0m\u001b[0;34m\u001b[0m\u001b[0m\n\u001b[1;32m    423\u001b[0m         \u001b[0;32mif\u001b[0m \u001b[0mresponse\u001b[0m\u001b[0;34m:\u001b[0m\u001b[0;34m\u001b[0m\u001b[0;34m\u001b[0m\u001b[0m\n\u001b[0;32m--> 424\u001b[0;31m             \u001b[0mself\u001b[0m\u001b[0;34m.\u001b[0m\u001b[0merror_handler\u001b[0m\u001b[0;34m.\u001b[0m\u001b[0mcheck_response\u001b[0m\u001b[0;34m(\u001b[0m\u001b[0mresponse\u001b[0m\u001b[0;34m)\u001b[0m\u001b[0;34m\u001b[0m\u001b[0;34m\u001b[0m\u001b[0m\n\u001b[0m\u001b[1;32m    425\u001b[0m             response['value'] = self._unwrap_value(\n\u001b[1;32m    426\u001b[0m                 response.get('value', None))\n",
      "\u001b[0;32m/opt/homebrew/lib/python3.9/site-packages/selenium/webdriver/remote/errorhandler.py\u001b[0m in \u001b[0;36mcheck_response\u001b[0;34m(self, response)\u001b[0m\n\u001b[1;32m    245\u001b[0m                 \u001b[0malert_text\u001b[0m \u001b[0;34m=\u001b[0m \u001b[0mvalue\u001b[0m\u001b[0;34m[\u001b[0m\u001b[0;34m'alert'\u001b[0m\u001b[0;34m]\u001b[0m\u001b[0;34m.\u001b[0m\u001b[0mget\u001b[0m\u001b[0;34m(\u001b[0m\u001b[0;34m'text'\u001b[0m\u001b[0;34m)\u001b[0m\u001b[0;34m\u001b[0m\u001b[0;34m\u001b[0m\u001b[0m\n\u001b[1;32m    246\u001b[0m             \u001b[0;32mraise\u001b[0m \u001b[0mexception_class\u001b[0m\u001b[0;34m(\u001b[0m\u001b[0mmessage\u001b[0m\u001b[0;34m,\u001b[0m \u001b[0mscreen\u001b[0m\u001b[0;34m,\u001b[0m \u001b[0mstacktrace\u001b[0m\u001b[0;34m,\u001b[0m \u001b[0malert_text\u001b[0m\u001b[0;34m)\u001b[0m  \u001b[0;31m# type: ignore[call-arg]  # mypy is not smart enough here\u001b[0m\u001b[0;34m\u001b[0m\u001b[0;34m\u001b[0m\u001b[0m\n\u001b[0;32m--> 247\u001b[0;31m         \u001b[0;32mraise\u001b[0m \u001b[0mexception_class\u001b[0m\u001b[0;34m(\u001b[0m\u001b[0mmessage\u001b[0m\u001b[0;34m,\u001b[0m \u001b[0mscreen\u001b[0m\u001b[0;34m,\u001b[0m \u001b[0mstacktrace\u001b[0m\u001b[0;34m)\u001b[0m\u001b[0;34m\u001b[0m\u001b[0;34m\u001b[0m\u001b[0m\n\u001b[0m\u001b[1;32m    248\u001b[0m \u001b[0;34m\u001b[0m\u001b[0m\n\u001b[1;32m    249\u001b[0m     \u001b[0;32mdef\u001b[0m \u001b[0m_value_or_default\u001b[0m\u001b[0;34m(\u001b[0m\u001b[0mself\u001b[0m\u001b[0;34m,\u001b[0m \u001b[0mobj\u001b[0m\u001b[0;34m:\u001b[0m \u001b[0mMapping\u001b[0m\u001b[0;34m[\u001b[0m\u001b[0m_KT\u001b[0m\u001b[0;34m,\u001b[0m \u001b[0m_VT\u001b[0m\u001b[0;34m]\u001b[0m\u001b[0;34m,\u001b[0m \u001b[0mkey\u001b[0m\u001b[0;34m:\u001b[0m \u001b[0m_KT\u001b[0m\u001b[0;34m,\u001b[0m \u001b[0mdefault\u001b[0m\u001b[0;34m:\u001b[0m \u001b[0m_VT\u001b[0m\u001b[0;34m)\u001b[0m \u001b[0;34m->\u001b[0m \u001b[0m_VT\u001b[0m\u001b[0;34m:\u001b[0m\u001b[0;34m\u001b[0m\u001b[0;34m\u001b[0m\u001b[0m\n",
      "\u001b[0;31mNoSuchWindowException\u001b[0m: Message: no such window: window was already closed\n  (Session info: chrome=98.0.4758.80)\nStacktrace:\n0   chromedriver                        0x000000010321cb50 chromedriver + 4442960\n1   chromedriver                        0x00000001031b1d14 chromedriver + 4005140\n2   chromedriver                        0x0000000102e0630c chromedriver + 156428\n3   chromedriver                        0x0000000102df7ae4 chromedriver + 96996\n4   chromedriver                        0x0000000102df2514 chromedriver + 75028\n5   chromedriver                        0x0000000102e5e2e4 chromedriver + 516836\n6   chromedriver                        0x0000000102e2a660 chromedriver + 304736\n7   chromedriver                        0x00000001031df308 chromedriver + 4190984\n8   chromedriver                        0x00000001031f5584 chromedriver + 4281732\n9   chromedriver                        0x00000001031fa3d0 chromedriver + 4301776\n10  chromedriver                        0x00000001031f5f04 chromedriver + 4284164\n11  chromedriver                        0x00000001031d5164 chromedriver + 4149604\n12  chromedriver                        0x000000010320ee74 chromedriver + 4386420\n13  chromedriver                        0x000000010320efe8 chromedriver + 4386792\n14  chromedriver                        0x00000001032233f4 chromedriver + 4469748\n15  libsystem_pthread.dylib             0x0000000182779240 _pthread_start + 148\n16  libsystem_pthread.dylib             0x0000000182774024 thread_start + 8\n"
     ]
    }
   ],
   "source": [
    "region = []\n",
    "hotel = []\n",
    "review_title = []\n",
    "review_positive = []\n",
    "review_negative = []\n",
    "room_type = []\n",
    "date = []\n",
    "score = []\n",
    "\n",
    "# 크롬 웹브라우저 실행\n",
    "driver = webdriver.Chrome(executable_path=\"/Users/sujin/Desktop/hotel-review-crawler/chromedriver\") \n",
    "# TODO 페이지 별로 url 다르게 넣어줘야 함 \n",
    "# 필터링 된 url \n",
    "url = \"booking.com/searchresults.ko.html?label=bdot-P2XUozRl7Uj73QAuByfkUwS267777897793%3Apl%3Ata%3Ap1%3Ap22%2C563%2C000%3Aac%3Aap%3Aneg%3Afi%3Atikwd-576851273475%3Alp1009871%3Ali%3Adec%3Adm%3Appccp%3DUmFuZG9tSVYkc2RlIyh9YUlRwjG4dAJkHxCuUKVzpFo&sid=6501b31231a00a3035b564f903cd02d3&aid=376440&sb_lp=1&src=index&error_url=https%3A%2F%2Fwww.booking.com%2Findex.ko.html%3Faid%3D376440%3Blabel%3Dbdot-P2XUozRl7Uj73QAuByfkUwS267777897793%253Apl%253Ata%253Ap1%253Ap22%252C563%252C000%253Aac%253Aap%253Aneg%253Afi%253Atikwd-576851273475%253Alp1009871%253Ali%253Adec%253Adm%253Appccp%253DUmFuZG9tSVYkc2RlIyh9YUlRwjG4dAJkHxCuUKVzpFo%3Bsid%3D6501b31231a00a3035b564f903cd02d3%3Bsb_price_type%3Dtotal%3Bsrpvid%3D7c2c0cadfaa9003e%26%3B&ss=부산&is_ski_area=0&checkin_year=&checkin_month=&checkout_year=&checkout_month=&group_adults=2&group_children=0&no_rooms=1&b_h4u_keep_filters=&from_sf=1&ss_raw=부산&search_pageview_id=a9d50caf10ae0098&nflt=class%3D3%3Bclass%3D5%3Bclass%3D4\"\n",
    "driver.get(url)\n",
    "time.sleep(2)\n",
    "\n",
    "hotel_name = driver.find_elements_by_xpath('//*[@data-testid=\"title\"]')\n",
    "hotel_name_list = []\n",
    "for name in hotel_name:\n",
    "    name = name.text\n",
    "    hotel_name_list.append(name)\n",
    "\n",
    "# ex) 부산:검색된숙소34개 \n",
    "hotel_page_raw= driver.find_element_by_css_selector('#search_results_table > div:nth-child(1) > div > div > div > div._b2280f5e6 > div._111b4b398').get_attribute('textContent').replace(\" \",\"\")\n",
    "# TODO: 슬라이싱 바꿔주기\n",
    "hotel_page = math.ceil(int(hotel_page_raw[9:-1])/25)\n",
    "\n",
    "try:\n",
    "    for k in tqdm(range(0,hotel_page)): \n",
    "        time.sleep(3)      \n",
    "        for i in tqdm(range(len(hotel_name_list))):\n",
    "            # 호텔 리스트와 클릭할 호텔의 이름이 같다면\n",
    "            if hotel_name_list[i] == driver.find_elements_by_xpath('//*[@data-testid=\"title\"]')[i].text:\n",
    "                # 체크인 날짜 팝업 끄기\n",
    "                driver.find_element_by_css_selector('#b2searchresultsPage').click()\n",
    "                # 호텔 클릭\n",
    "                driver.find_elements_by_xpath('//*[@data-testid=\"title\"]')[i].click()\n",
    "                # 새로운 창을 핸들링\n",
    "                driver.switch_to.window(driver.window_handles[-1]) \n",
    "                # 고객 후기 클릭\n",
    "                time.sleep(7)\n",
    "                driver.find_element_by_css_selector('#show_reviews_tab').click()\n",
    "                # 한국어 리뷰만 보기\n",
    "                try:\n",
    "                    driver.find_element_by_css_selector('#review_lang_filter > button').click()\n",
    "                    driver.find_element_by_css_selector('#review_lang_filter > div > div > ul > li:nth-child(2) > button').click()\n",
    "                    time.sleep(5)\n",
    "                    ## 후기 가져오기\n",
    "                    # 한국어 리뷰 수 가져와서 공백 제거 ex) 한국어  (45)\n",
    "                    korean_review_raw = driver.find_element_by_xpath('//*[@id=\"review_lang_filter\"]/div/div/ul/li[2]/button').get_attribute('textContent').replace(\" \",\"\")\n",
    "                    # 숫자만 슬라이싱\n",
    "                    korean_review_num = korean_review_raw[8:-2]\n",
    "                    print(korean_review_num)\n",
    "                    review_page = math.ceil(int(korean_review_num)/10)\n",
    "                except:\n",
    "                    pass\n",
    "                for j in tqdm(range(0,review_page)):\n",
    "                    time.sleep(3)\n",
    "                    for z in tqdm(range(1,11)):\n",
    "                        # TODO 해당 지역으로 이름을 바꿔줘야 함\n",
    "                        region.append('부산')\n",
    "                        hotel.append(hotel_name_list[i])\n",
    "                        try:\n",
    "                            review_title.append(driver.find_element_by_css_selector(f\"#review_list_page_container > ul > li:nth-child({z}) > div > div.bui-grid > div.bui-grid__column-9.c-review-block__right > div:nth-child(1) > div > div.bui-grid__column-10 > h3\").get_attribute('textContent'))                                \n",
    "                        except:\n",
    "                            review_title.append(None)\n",
    "                        try:\n",
    "                            review_positive.append(driver.find_element_by_css_selector(f\"#review_list_page_container > ul > li:nth-child({z}) > div > div.bui-grid > div.bui-grid__column-9.c-review-block__right > div:nth-child(2) > div > div:nth-child(1) > p > span.c-review__body\").get_attribute('textContent'))\n",
    "                        except:\n",
    "                            review_positive.append(None)\n",
    "                        try:\n",
    "                            review_negative.append(driver.find_element_by_css_selector(f\"#review_list_page_container > ul > li:nth-child({z}) > div > div.bui-grid > div.bui-grid__column-9.c-review-block__right > div:nth-child(2) > div > div.c-review__row.lalala > p > span.c-review__body\").get_attribute('textContent'))\n",
    "                        except:\n",
    "                            review_negative.append(None)\n",
    "                        try:\n",
    "                            room_type.append(driver.find_element_by_css_selector(f\"#review_list_page_container > ul > li:nth-child({z}) > div > div.bui-grid > div.bui-grid__column-3.c-review-block__left > div.c-review-block__row.c-review-block__room-info-row.review-block__room-info--disabled > ul > li > a > div\").get_attribute('textContent'))\n",
    "                        except:\n",
    "                            room_type.append(None)\n",
    "                        try:\n",
    "                            date.append(driver.find_element_by_css_selector(f\"#review_list_page_container > ul > li:nth-child({z}) > div > div.bui-grid > div.bui-grid__column-3.c-review-block__left > ul.bui-list.bui-list--text.bui-list--icon.bui_font_caption.c-review-block__row.c-review-block__stay-date > li > div > span\").get_attribute('textContent'))\n",
    "                        except:\n",
    "                            date.append(None)\n",
    "                        try:\n",
    "                            score.append(driver.find_element_by_css_selector(f\"#review_list_page_container > ul > li:nth-child({z}) > div > div.bui-grid > div.bui-grid__column-9.c-review-block__right > div:nth-child(1) > div > div.bui-grid__column-2.bui-u-text-right > div > div\").get_attribute('textContent'))\n",
    "                        except:\n",
    "                            score.append(None)        \n",
    "                    # 후기 다음 페이지 \n",
    "                    try:\n",
    "                        driver.find_element_by_xpath('//*[@id=\"review_list_page_container\"]/div[4]/div/div[1]/div/div[3]/a').click()\n",
    "                    except:\n",
    "                        driver.switch_to.window(driver.window_handles[0])\n",
    "            time.sleep(3)\n",
    "            # 이전 창으로 핸들링\n",
    "            driver.switch_to.window(driver.window_handles[0]) \n",
    "        driver.find_element_by_xpath('//*[@id=\"search_results_table\"]/div/div/div/div/div[7]/div[2]/nav/div/div[3]/button').click()\n",
    "\n",
    "finally:   \n",
    "    df = pd.DataFrame({'date' :date,'region': region,'hotel':hotel,'room_type':room_type,'score':score,'review_title':review_title,'review_positive':review_positive,'review_negative':review_negative})\n",
    "    df.to_csv(f'호텔 리뷰.csv', mode='a',encoding='utf-8-sig',header=False,index=False)"
   ]
  },
  {
   "cell_type": "markdown",
   "metadata": {},
   "source": []
  }
 ],
 "metadata": {
  "interpreter": {
   "hash": "31f2aee4e71d21fbe5cf8b01ff0e069b9275f58929596ceb00d14d90e3e16cd6"
  },
  "kernelspec": {
   "display_name": "Python 3.8.9 64-bit",
   "language": "python",
   "name": "python3"
  },
  "language_info": {
   "codemirror_mode": {
    "name": "ipython",
    "version": 3
   },
   "file_extension": ".py",
   "mimetype": "text/x-python",
   "name": "python",
   "nbconvert_exporter": "python",
   "pygments_lexer": "ipython3",
   "version": "3.9.7"
  },
  "orig_nbformat": 4
 },
 "nbformat": 4,
 "nbformat_minor": 2
}
