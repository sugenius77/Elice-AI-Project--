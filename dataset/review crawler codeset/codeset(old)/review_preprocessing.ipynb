{
 "cells": [
  {
   "cell_type": "code",
   "execution_count": 461,
   "metadata": {},
   "outputs": [],
   "source": [
    "import pandas as pd\n"
   ]
  },
  {
   "cell_type": "code",
   "execution_count": 807,
   "metadata": {},
   "outputs": [],
   "source": [
    "busan = pd.read_csv('./busan_review.csv')\n",
    "gangwondo = pd.read_csv('./gangwondo_review.csv')\n",
    "jeju = pd.read_csv('./jeju_review.csv')\n",
    "seoul = pd.read_csv('./seoul_review.csv')"
   ]
  },
  {
   "cell_type": "code",
   "execution_count": 808,
   "metadata": {},
   "outputs": [],
   "source": [
    "# 사용하지 않기로 한 ['room_type', 'score', 'review_title'] columns 삭제 후 \n",
    "# 각 DF 합침\n",
    "def drop_columns(*hotels) -> pd.DataFrame:\n",
    "    hotel_df = pd.DataFrame()\n",
    "\n",
    "    for hotel in hotels:\n",
    "        droped_hotel = hotel.drop(['room_type', 'score', 'review_title'], axis=1)\n",
    "        hotel_df = pd.concat([hotel_df, droped_hotel], ignore_index=True)\n",
    "    \n",
    "    return hotel_df\n",
    "    "
   ]
  },
  {
   "cell_type": "code",
   "execution_count": 809,
   "metadata": {},
   "outputs": [],
   "source": [
    "# ['date', 'region', 'hotel'] 값이 NaN인 행 삭제, ['review_positive', 'review_negative'] 둘 다 NaN인 행 삭제\n",
    "def drop_nan(hotel_df: pd.DataFrame, allow_nan_count: int) -> pd.DataFrame:\n",
    "    thresh = len(hotel_df.columns) - allow_nan_count\n",
    "    drop_nan_hotel = hotel_df.dropna(subset=['date', 'region', 'hotel']).dropna(thresh=thresh)\n",
    "    \n",
    "    return drop_nan_hotel"
   ]
  },
  {
   "cell_type": "code",
   "execution_count": 811,
   "metadata": {},
   "outputs": [],
   "source": [
    "# column 명 통일\n",
    "busan = busan.drop(['Unnamed: 8'], axis = 1)\n",
    "\n",
    "gangwondo.columns = busan.columns\n",
    "seoul.columns = busan.columns\n",
    "jeju = jeju.rename(columns = {'name': 'hotel', 'review_great': 'review_positive', 'review_poor': 'review_negative'})\n"
   ]
  },
  {
   "cell_type": "code",
   "execution_count": 812,
   "metadata": {},
   "outputs": [],
   "source": [
    "# 안쓰는 column drop\n",
    "hotel_df = drop_columns(busan, gangwondo, seoul, jeju)"
   ]
  },
  {
   "cell_type": "code",
   "execution_count": 813,
   "metadata": {},
   "outputs": [],
   "source": [
    "# 개행문자 변경, 날짜 형식 변경\n",
    "hotel_df = hotel_df.replace('\\n', ' ', regex=True)"
   ]
  },
  {
   "cell_type": "code",
   "execution_count": 814,
   "metadata": {},
   "outputs": [],
   "source": [
    "# 잘못 입력된 NaN 값 drop\n",
    "allow_nan_count = 1\n",
    "hotel_df = drop_nan(hotel_df, allow_nan_count)"
   ]
  },
  {
   "cell_type": "code",
   "execution_count": 839,
   "metadata": {},
   "outputs": [],
   "source": [
    "# 중복 데이터 삭제\n",
    "hotel_df = hotel_df.drop_duplicates()\n",
    "hotel_df = hotel_df[hotel_df['date'] != 'date']"
   ]
  },
  {
   "cell_type": "code",
   "execution_count": 816,
   "metadata": {},
   "outputs": [],
   "source": [
    "# 의미없는 리뷰 데이터 삭제\n",
    "remove_review = ['작성한 내용이 없습니다']\n",
    "\n",
    "hotel_df = hotel_df[~hotel_df['review_positive'].isin(remove_review) & ~hotel_df['review_negative'].isin(remove_review)]"
   ]
  },
  {
   "cell_type": "code",
   "execution_count": 872,
   "metadata": {},
   "outputs": [],
   "source": [
    "# date 타입 변경 및 필터링\n",
    "for_datetime = hotel_df['date'].replace('년 ', '-', regex=True).replace('월', '', regex=True)\n",
    "hotel_df['date'] = pd.to_datetime(for_datetime, infer_datetime_format=True)\n",
    "\n",
    "filter_day = '2020-03'\n",
    "hotel_df = hotel_df[(hotel_df['date'] >= filter_day)]"
   ]
  },
  {
   "cell_type": "code",
   "execution_count": 894,
   "metadata": {},
   "outputs": [],
   "source": [
    "# 데이터 나눠서 저장\n",
    "\n",
    "# 긍정\n",
    "positive = hotel_df.drop('review_negative', axis=1).dropna().reset_index()\n",
    "negative = hotel_df.drop('review_positive', axis=1).dropna().reset_index()"
   ]
  },
  {
   "cell_type": "code",
   "execution_count": 895,
   "metadata": {},
   "outputs": [
    {
     "name": "stdout",
     "output_type": "stream",
     "text": [
      "date               44290\n",
      "region             44290\n",
      "hotel              44290\n",
      "review_positive    43146\n",
      "review_negative    36075\n",
      "dtype: int64\n",
      "36075\n",
      "43146\n"
     ]
    }
   ],
   "source": [
    "print(hotel_df.notna().sum())\n",
    "print(hotel_df['review_negative'].notna().sum())\n",
    "print(hotel_df['review_positive'].notna().sum())"
   ]
  },
  {
   "cell_type": "code",
   "execution_count": 896,
   "metadata": {},
   "outputs": [],
   "source": [
    "positive.to_csv('./positive_all.csv')\n",
    "negative.to_csv('./negative_all.csv')"
   ]
  },
  {
   "cell_type": "code",
   "execution_count": 906,
   "metadata": {},
   "outputs": [],
   "source": [
    "# 태깅을 하기 위해 조원 인원수에 맞춰 슬라이싱 후 저장\n",
    "div_num = 5\n",
    "slice_range = len(positive) // div_num\n",
    "for i in range(div_num):\n",
    "    positive[i*slice_range: (i+1)*slice_range].to_csv(f'./positive_{i+1}.csv')\n"
   ]
  },
  {
   "cell_type": "code",
   "execution_count": 905,
   "metadata": {},
   "outputs": [
    {
     "name": "stdout",
     "output_type": "stream",
     "text": [
      "[0, 1, 2, 3, 4]\n",
      "[5, 6, 7, 8, 9]\n"
     ]
    }
   ],
   "source": [
    "for i in range(2):\n",
    "    print(a[i*div_num: (i+1)*div_num])"
   ]
  }
 ],
 "metadata": {
  "interpreter": {
   "hash": "481802965512babdf78f662193e140e60fa9c181150eef6a771d528e4d497192"
  },
  "kernelspec": {
   "display_name": "Python 3.7.11 64-bit ('env_default': conda)",
   "language": "python",
   "name": "python3"
  },
  "language_info": {
   "codemirror_mode": {
    "name": "ipython",
    "version": 3
   },
   "file_extension": ".py",
   "mimetype": "text/x-python",
   "name": "python",
   "nbconvert_exporter": "python",
   "pygments_lexer": "ipython3",
   "version": "3.7.11"
  },
  "orig_nbformat": 4
 },
 "nbformat": 4,
 "nbformat_minor": 2
}
